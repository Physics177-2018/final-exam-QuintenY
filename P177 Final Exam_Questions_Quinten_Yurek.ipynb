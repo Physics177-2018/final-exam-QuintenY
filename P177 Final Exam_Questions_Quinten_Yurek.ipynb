{
 "cells": [
  {
   "cell_type": "markdown",
   "metadata": {},
   "source": [
    "# P177: Final Exam\n",
    "Spring 2018\n",
    "\n",
    "**Due:** please complete by **Friday, June 15th**.  \n",
    "Pro-tip: do this way before then. \n",
    "\n",
    "**iEval:** please complete the [iEval](https://ieval.ucr.edu/) before **Friday, June 8th**. \n",
    "\n",
    "\n",
    "*Quinten Yurek*"
   ]
  },
  {
   "cell_type": "markdown",
   "metadata": {},
   "source": [
    "## 1. Kaggle Tutorial \n",
    "\n",
    "1. Create a Kaggle account and navigate to the \"[Titanic: Machine Learning from Disaster](https://www.kaggle.com/c/titanic)\" competition. Read a bit about the challenge.\n",
    "\n",
    "2. Navigate to Helge Bjorland's \"[Interactive Data Science Tutorial](https://www.kaggle.com/helgejo/an-interactive-data-science-tutorial)\" that uses the Titanic dataset. (**Note:** in class we used [Rochelle Silva's tutorial](https://www.kaggle.com/rochellesilva/simple-tutorial-for-beginners), the Bjorland tutorial is probably a little more insightful.) \n",
    "\n",
    "3. **Fork** the tutorial and go through it. Run everything. You are not required to complete the \"exercises\" (cells where you have to type code), but you get extra credit if you do.\n",
    "\n",
    "4. Download the completed tutorial as a Jupyter notebook (`ipynb` file). Upload that notebook to your GitHub repository for this final."
   ]
  },
  {
   "cell_type": "markdown",
   "metadata": {},
   "source": [
    "## 2. Answer the Following Questions\n",
    "\n",
    "These are real questions where I'd like you to write a few sentences about your code. The goal is to show that you've thought carefully about your code and can say something insightful about your work. "
   ]
  },
  {
   "cell_type": "markdown",
   "metadata": {},
   "source": [
    "### a) What was your favorite homework problem? What did you learn from doing it?\n",
    "\n",
    "*[Fill in your answer]*\n",
    "I think I enjoyed either the poissons' equation with the E Field mapping or the Ising model. From poissons' eq I learned how to integrate, in code, a partial differential equation. This was interesting because it forced us to break apart the integral to its core which is a summation for a function of some variables. The Ising model was similar but I enjoyed the probability and the outcome png file and how the system evolved over time. "
   ]
  },
  {
   "cell_type": "markdown",
   "metadata": {},
   "source": [
    "### b) What was the most difficult problem? What was confusing or frustrating about it?\n",
    "\n",
    "*I think all of them got rather difficult after we did a few basic python problems. I was able to finish the code but to understand it was another thing. I was able to shift enter through most of the hw then look up some functions to finish it. But the problem was I did not understand what I was doing. I think this began with the bessel functions. However, there were some programs I understood both on paper and in code. I just had never used python before and it went from \"print hello world\" to manage a n-dimensional array which I had no idea how to do in python. So, I looked it up and shift entered some code and through trial and error kind of figured it out but I still do not formally know.  *"
   ]
  },
  {
   "cell_type": "markdown",
   "metadata": {},
   "source": [
    "### c) In your own words, give an example of a problem where you would use Markov Chain Monte Carlo (MCMC). Briefly describe how MCMC works.\n",
    "\n",
    "*after we did the the drop of creamer in the coffee model I look at the world differently. I oddly stir my coffee with my face very close watching the creamer and coffee mix and am like this is fucking nuts. Now I think of diffusion of gasses I cannot see a lot. When I use the AC in at my house in riverside when its hot I think about how the hallway has no vents so it is always hotter and when I open my door I think of this complicated diffusion going on in my doorway between the hot and cold areas. I would like to model this system with a mcmc program. MCMC works by choosing a random point to look within the system (monte carlo) at and then, based on parameters unique to the problem, decides how the next step should be taken (markov chain). this process iterates over the whole system for many steps*"
   ]
  },
  {
   "cell_type": "markdown",
   "metadata": {},
   "source": [
    "### d) ELI5: Pick one technical idea from the course and explain it to a five-year-old.\n",
    "\n",
    "*[Fill in your answer. Possible topics include the Ising model, Euler's method, Riemann sum integration, Monte Carlo, etc. Don't write an essay. ]*\n",
    "Riemann Sum: Ok Mini-Tanedo so you want to know how a Riemann sum works. This is called a graph, it is some squigely line on an area containing straight lines called axes. Now imagine you want to color in everything under the lines but all you have are rectangles with different heights. A Riemann summ is coloring in everything under the line, but we use the rectangles. Then we  add them all up. But not so fast, each rectangle has a different height so you need to add each rectangle individually and take into consideration its unique height.  "
   ]
  },
  {
   "cell_type": "markdown",
   "metadata": {},
   "source": [
    "## 3. Evaluation (not for a grade)\n",
    "\n",
    "I hope you filled out the `iEval` before Jun 8th. In this cell, please feel free to share constructive criticism about the course. What did you like? What did you not like? Are there topics that you really wish we covered or didn't cover? What should I know to be a better lecturer?\n",
    "\n",
    "*I think the transition from basic python concepts to more complex python concepts was like a step function. one day easy then bam. When you begin to introduce harder physics problems which is awesome because those were the most fun, you also should consider teaching the python concepts along with them. Like how python code is structured and how the core functions work. Managing an array (most important), knowing how values get updated and the function, class, object relations are things I think would be good to formally teach in this class. And an overview of syntax should deffinatly be taught, since we only learned markdown syntax.\n",
    "\n",
    "\n",
    "Otherwise this class was super cool, not too hard or demanding and I learned things. Also your a great teacher, level headed and make class enjoyable.*"
   ]
  },
  {
   "cell_type": "markdown",
   "metadata": {},
   "source": [
    "## Closing thoughts\n",
    "\n",
    "It's been a real joy to be part of this class---I was really impressed by each of your midterm presentations and have had a lot of fun with our discussions. In whatever is ahead of you beyond this class, I look forward to hearing how you each succeed.\n",
    "\n",
    "I encourage you to make your GitHub repositories public (you may need to duplicate them) so that you can show them off to the world."
   ]
  },
  {
   "cell_type": "code",
   "execution_count": null,
   "metadata": {},
   "outputs": [],
   "source": []
  },
  {
   "cell_type": "code",
   "execution_count": null,
   "metadata": {},
   "outputs": [],
   "source": []
  }
 ],
 "metadata": {
  "kernelspec": {
   "display_name": "Python 3",
   "language": "python",
   "name": "python3"
  },
  "language_info": {
   "codemirror_mode": {
    "name": "ipython",
    "version": 3
   },
   "file_extension": ".py",
   "mimetype": "text/x-python",
   "name": "python",
   "nbconvert_exporter": "python",
   "pygments_lexer": "ipython3",
   "version": "3.6.4"
  }
 },
 "nbformat": 4,
 "nbformat_minor": 2
}
